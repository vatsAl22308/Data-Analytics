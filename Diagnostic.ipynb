{
  "nbformat": 4,
  "nbformat_minor": 0,
  "metadata": {
    "colab": {
      "provenance": []
    },
    "kernelspec": {
      "name": "python3",
      "display_name": "Python 3"
    },
    "language_info": {
      "name": "python"
    }
  },
  "cells": [
    {
      "cell_type": "code",
      "execution_count": null,
      "metadata": {
        "id": "bsagrUL36UWz"
      },
      "outputs": [],
      "source": [
        "import pandas as pd\n",
        "import matplotlib.pyplot as plt\n",
        "import seaborn as sns"
      ]
    },
    {
      "cell_type": "code",
      "source": [
        "df=pd.read_csv(\"ABT.csv\")\n"
      ],
      "metadata": {
        "id": "UQmynNvD8TBz"
      },
      "execution_count": null,
      "outputs": []
    },
    {
      "cell_type": "code",
      "source": [
        "#Finding the Lenght of each feature which will be same for all the features\n",
        "\n",
        "# Credit Score\n",
        "Cs_count= len(df[\"CreditScore\"])\n",
        "print(Cs_count)\n",
        "#Age\n",
        "ag_count=len(df[\"Age\"])\n",
        "print(ag_count)\n",
        "#Tenure\n",
        "ten_count=len(df[\"Tenure\"])\n",
        "print(ten_count)\n",
        "#Balance\n",
        "bal_count=len(df[\"Balance\"])\n",
        "print(bal_count)\n",
        "#Salary\n",
        "sal_count=len(df[\"Salary\"])\n",
        "print(sal_count)"
      ],
      "metadata": {
        "colab": {
          "base_uri": "https://localhost:8080/"
        },
        "id": "v0Rt_Vn68bAf",
        "outputId": "7b5d68d9-33d7-4a3d-84d7-fa9e45ea6087"
      },
      "execution_count": null,
      "outputs": [
        {
          "output_type": "stream",
          "name": "stdout",
          "text": [
            "5000\n",
            "5000\n",
            "5000\n",
            "5000\n",
            "5000\n"
          ]
        }
      ]
    },
    {
      "cell_type": "code",
      "source": [
        "# Finding the missing % for each of the feature\n",
        "#Credit score\n",
        "Cs_missing_value= df[\"CreditScore\"].isnull().sum()\n",
        "Cs_missing_percentage = (Cs_missing_value/Cs_count)*100\n",
        "print(Cs_missing_percentage)\n",
        "#Age\n",
        "ag_missing_value=df[\"Age\"].isnull().sum()\n",
        "ag_missing_percentage=(ag_missing_value/ag_count)*100\n",
        "print(ag_missing_percentage)\n",
        "#Tenure\n",
        "ten_missing_value=df[\"Tenure\"].isnull().sum()\n",
        "ten_missing_percentage=(ten_missing_value/ten_count)*100\n",
        "print(ten_missing_percentage)\n",
        "#Balance\n",
        "bal_missing_value=df[\"Balance\"].isnull().sum()\n",
        "bal_missing_percentage=(bal_missing_value/bal_count)*100\n",
        "print(bal_missing_percentage)\n",
        "#salary\n",
        "sal_missing_value=df[\"Salary\"].isnull().sum()\n",
        "sal_missing_percentage=(sal_missing_value/sal_count)*100\n",
        "print(sal_missing_percentage)"
      ],
      "metadata": {
        "colab": {
          "base_uri": "https://localhost:8080/"
        },
        "id": "uF0ORzNB9oxp",
        "outputId": "92b2f634-a006-4ba8-c373-769f29e82525"
      },
      "execution_count": null,
      "outputs": [
        {
          "output_type": "stream",
          "name": "stdout",
          "text": [
            "1.7999999999999998\n",
            "0.66\n",
            "0.0\n",
            "0.0\n",
            "1.6199999999999999\n"
          ]
        }
      ]
    },
    {
      "cell_type": "code",
      "source": [
        "#Calculating Cardinality\n",
        "#Credit Score\n",
        "Cs_card= df[\"CreditScore\"].nunique()\n",
        "print(Cs_card)\n",
        "#Age\n",
        "ag_card=df[\"Age\"].nunique()\n",
        "print(ag_card)\n",
        "#Tenure\n",
        "ten_card=df[\"Tenure\"].nunique()\n",
        "print(ten_card)\n",
        "#Balance\n",
        "bal_card=df[\"Balance\"].nunique()\n",
        "print(bal_card)\n",
        "#Salary\n",
        "sal_card=df[\"Salary\"].nunique()\n",
        "print(sal_card)\n"
      ],
      "metadata": {
        "colab": {
          "base_uri": "https://localhost:8080/"
        },
        "id": "GJUoO5vMB6ic",
        "outputId": "8c695cfb-9afa-4eb9-8243-cf4ce14eb311"
      },
      "execution_count": null,
      "outputs": [
        {
          "output_type": "stream",
          "name": "stdout",
          "text": [
            "542\n",
            "129\n",
            "11\n",
            "3170\n",
            "4918\n"
          ]
        }
      ]
    },
    {
      "cell_type": "code",
      "source": [
        "# Calculating Min value\n",
        "#CreditScore\n",
        "Cs_min=df[\"CreditScore\"].min()\n",
        "print(Cs_min)\n",
        "#Age\n",
        "ag_min=df[\"Age\"].min()\n",
        "print(ag_min)\n",
        "#Tenure\n",
        "ten_min=df[\"Tenure\"].min()\n",
        "print(ten_min)\n",
        "#Balance\n",
        "bal_min=df[\"Balance\"].min()\n",
        "print(bal_min)\n",
        "#Salary\n",
        "sal_min=df[\"Salary\"].min()\n",
        "print(sal_min)\n"
      ],
      "metadata": {
        "colab": {
          "base_uri": "https://localhost:8080/"
        },
        "id": "ejEW09A6KOE2",
        "outputId": "71b697a1-f773-4ae4-b096-40416b453734"
      },
      "execution_count": null,
      "outputs": [
        {
          "output_type": "stream",
          "name": "stdout",
          "text": [
            "47.0\n",
            "3.8\n",
            "0\n",
            "0.0\n",
            "11.58\n"
          ]
        }
      ]
    },
    {
      "cell_type": "code",
      "source": [
        "# Calculating Max value\n",
        "# CreditScore\n",
        "Cs_max = df[\"CreditScore\"].max()\n",
        "print(Cs_max)\n",
        "# Age\n",
        "ag_max = df[\"Age\"].max()\n",
        "print(ag_max)\n",
        "# Tenure\n",
        "ten_max = df[\"Tenure\"].max()\n",
        "print(ten_max)\n",
        "# Balance\n",
        "bal_max = df[\"Balance\"].max()\n",
        "print(bal_max)\n",
        "# Salary\n",
        "sal_max = df[\"Salary\"].max()\n",
        "print(sal_max)\n"
      ],
      "metadata": {
        "colab": {
          "base_uri": "https://localhost:8080/"
        },
        "id": "uILorQijNCwd",
        "outputId": "60696d7b-b408-4592-d43c-7076bc76ff7d"
      },
      "execution_count": null,
      "outputs": [
        {
          "output_type": "stream",
          "name": "stdout",
          "text": [
            "6800.0\n",
            "440.0\n",
            "10\n",
            "250898.09\n",
            "1309341.04\n"
          ]
        }
      ]
    },
    {
      "cell_type": "code",
      "source": [
        "# Calculating Quartile 1 (Q1) for each feature\n",
        "# CreditScore\n",
        "Cs_q1 = df[\"CreditScore\"].quantile(0.25)\n",
        "print(\"Quartile 1 (Q1) for CreditScore:\", Cs_q1)\n",
        "\n",
        "# Age\n",
        "ag_q1 = df[\"Age\"].quantile(0.25)\n",
        "print(\"Quartile 1 (Q1) for Age:\", ag_q1)\n",
        "\n",
        "# Tenure\n",
        "ten_q1 = df[\"Tenure\"].quantile(0.25)\n",
        "print(\"Quartile 1 (Q1) for Tenure:\", ten_q1)\n",
        "\n",
        "# Balance\n",
        "bal_q1 = df[\"Balance\"].quantile(0.25)\n",
        "print(\"Quartile 1 (Q1) for Balance:\", bal_q1)\n",
        "\n",
        "# salary\n",
        "sal_q1 = df[\"Salary\"].quantile(0.25)\n",
        "print(\"Quartile 1 (Q1) for Salary:\", sal_q1)"
      ],
      "metadata": {
        "colab": {
          "base_uri": "https://localhost:8080/"
        },
        "id": "hUYIqSt9Pnsp",
        "outputId": "802a5fc7-23d4-4f3c-ad21-8884b30c1663"
      },
      "execution_count": null,
      "outputs": [
        {
          "output_type": "stream",
          "name": "stdout",
          "text": [
            "Quartile 1 (Q1) for CreditScore: 583.25\n",
            "Quartile 1 (Q1) for Age: 32.0\n",
            "Quartile 1 (Q1) for Tenure: 2.0\n",
            "Quartile 1 (Q1) for Balance: 0.0\n",
            "Quartile 1 (Q1) for Salary: 49710.86\n"
          ]
        }
      ]
    },
    {
      "cell_type": "code",
      "source": [
        "# Calculating Quartile 3 for each feature\n",
        "#CreditScore\n",
        "cs_q3=df[\"CreditScore\"].quantile(0.75)\n",
        "print(cs_q3)\n",
        "#Age\n",
        "ag_q3=df[\"Age\"].quantile(0.75)\n",
        "print(ag_q3)\n",
        "#Tenure\n",
        "ten_q3=df[\"Tenure\"].quantile(0.75)\n",
        "print(ten_q3)\n",
        "#Balance\n",
        "bal_q4=df[\"Balance\"].quantile(0.75)\n",
        "print(bal_q4)\n",
        "#Salary\n",
        "sal_q3=df[\"Salary\"].quantile(0.75)\n",
        "print(sal_q3)"
      ],
      "metadata": {
        "colab": {
          "base_uri": "https://localhost:8080/"
        },
        "id": "uxYTtW4EQGJJ",
        "outputId": "d70065f0-5f3d-4b84-a9f9-5b0e2f25e030"
      },
      "execution_count": null,
      "outputs": [
        {
          "output_type": "stream",
          "name": "stdout",
          "text": [
            "719.0\n",
            "44.0\n",
            "8.0\n",
            "126671.48\n",
            "149789.81\n"
          ]
        }
      ]
    },
    {
      "cell_type": "code",
      "source": [
        "#Calculating Mean for each feature\n",
        "#CreditScore\n",
        "Cs_mean=df[\"CreditScore\"].mean()\n",
        "print(Cs_mean)\n",
        "#Age\n",
        "ag_mean=df[\"Age\"].mean()\n",
        "print(ag_mean)\n",
        "#Tenure\n",
        "ten_mean=df[\"Tenure\"].mean()\n",
        "print(ten_mean)\n",
        "#Balance\n",
        "bal_mean=df[\"Balance\"].mean()\n",
        "print(bal_mean)\n",
        "#Salary\n",
        "sal_mean=df[\"Salary\"].mean()\n",
        "print(sal_mean)"
      ],
      "metadata": {
        "colab": {
          "base_uri": "https://localhost:8080/"
        },
        "id": "pn6AX8FBepWB",
        "outputId": "f3e450b1-9f42-463d-c6b1-6f54cbd66b5d"
      },
      "execution_count": null,
      "outputs": [
        {
          "output_type": "stream",
          "name": "stdout",
          "text": [
            "708.0117871690428\n",
            "41.05975437890074\n",
            "4.9846\n",
            "75796.946086\n",
            "103444.80115789866\n"
          ]
        }
      ]
    },
    {
      "cell_type": "code",
      "source": [
        "# Calculating Median for each feature\n",
        "\n",
        "# CreditScore\n",
        "Cs_median = df[\"CreditScore\"].median()\n",
        "print(Cs_median)\n",
        "\n",
        "# Age\n",
        "ag_median = df[\"Age\"].median()\n",
        "print(ag_median)\n",
        "\n",
        "# Tenure\n",
        "ten_median = df[\"Tenure\"].median()\n",
        "print(ten_median)\n",
        "\n",
        "# Balance\n",
        "bal_median = df[\"Balance\"].median()\n",
        "print(bal_median)\n",
        "\n",
        "# Salary\n",
        "sal_median = df[\"Salary\"].median()\n",
        "print(sal_median)"
      ],
      "metadata": {
        "colab": {
          "base_uri": "https://localhost:8080/"
        },
        "id": "2EaLdiqogoFu",
        "outputId": "5c503473-901e-49fc-be03-caafc39c2e8f"
      },
      "execution_count": null,
      "outputs": [
        {
          "output_type": "stream",
          "name": "stdout",
          "text": [
            "651.0\n",
            "37.0\n",
            "5.0\n",
            "96908.79000000001\n",
            "99106.97\n"
          ]
        }
      ]
    },
    {
      "cell_type": "code",
      "source": [
        "# Calculating Standard Deviation for each feature\n",
        "# CreditScore\n",
        "Cs_std = df[\"CreditScore\"].std()\n",
        "print(Cs_std)\n",
        "\n",
        "# Age\n",
        "ag_std = df[\"Age\"].std()\n",
        "print(ag_std)\n",
        "\n",
        "# Tenure\n",
        "ten_std = df[\"Tenure\"].std()\n",
        "print(ten_std)\n",
        "\n",
        "# Balance\n",
        "bal_std = df[\"Balance\"].std()\n",
        "print(bal_std)\n",
        "\n",
        "\n",
        "# Salary\n",
        "sal_std = df[\"Salary\"].std()\n",
        "print(sal_std)\n"
      ],
      "metadata": {
        "colab": {
          "base_uri": "https://localhost:8080/"
        },
        "id": "bQxxmstgiFqu",
        "outputId": "c692e76a-f14a-4a5c-b376-a6a7d7f1a95d"
      },
      "execution_count": null,
      "outputs": [
        {
          "output_type": "stream",
          "name": "stdout",
          "text": [
            "555.0094922093143\n",
            "22.344600352241656\n",
            "2.9060715563072557\n",
            "62211.30120084277\n",
            "82710.10129335569\n"
          ]
        }
      ]
    },
    {
      "cell_type": "code",
      "source": [
        "# Categorical Data\n",
        "\n",
        "#Geography\n",
        "geo_count=len(df[\"Geography\"])\n",
        "print(geo_count)\n",
        "#Gender\n",
        "gen_count=len(df[\"Gender\"])\n",
        "print(gen_count)\n",
        "#CreditCard\n",
        "Cr_count=len(df[\"Cr Card\"])\n",
        "print(Cr_count)\n",
        "#Active\n",
        "ac_count=len(df[\"Active\"])\n",
        "print(ac_count)"
      ],
      "metadata": {
        "colab": {
          "base_uri": "https://localhost:8080/"
        },
        "id": "NJPK2FaKlC3b",
        "outputId": "fda19be1-6037-4022-8e38-6fd7ccadc971"
      },
      "execution_count": null,
      "outputs": [
        {
          "output_type": "stream",
          "name": "stdout",
          "text": [
            "5000\n",
            "5000\n",
            "5000\n",
            "5000\n"
          ]
        }
      ]
    },
    {
      "cell_type": "code",
      "source": [
        "#finding missing value for each feature\n",
        "#Geography\n",
        "geo_missing_value=df[\"Geography\"].isnull().sum()\n",
        "geo_missing_percentage=(geo_missing_value/geo_count)*100\n",
        "print(geo_missing_percentage)\n",
        "#Gender\n",
        "gen_missing_value=df[\"Gender\"].isnull().sum()\n",
        "gen_missing_percentage=(gen_missing_value/gen_count)*100\n",
        "print(gen_missing_percentage)\n",
        "#CreditCard\n",
        "cr_missing_value=df[\"Cr Card\"].isnull().sum()\n",
        "cr_percentage=(cr_missing_value/Cr_count)*100\n",
        "print(cr_percentage)"
      ],
      "metadata": {
        "colab": {
          "base_uri": "https://localhost:8080/"
        },
        "id": "s8gaWaMZm13k",
        "outputId": "11820e4e-bad8-4a4f-803d-da9f92068092"
      },
      "execution_count": null,
      "outputs": [
        {
          "output_type": "stream",
          "name": "stdout",
          "text": [
            "0.0\n",
            "0.0\n",
            "0.0\n"
          ]
        }
      ]
    },
    {
      "cell_type": "code",
      "source": [
        "# Calculating cardinality for each feature\n",
        "# Geography\n",
        "geo_cardinality = df[\"Geography\"].nunique()\n",
        "print(geo_cardinality)\n",
        "\n",
        "# Gender\n",
        "gen_cardinality = df[\"Gender\"].nunique()\n",
        "print(gen_cardinality)\n",
        "\n",
        "# CreditCard\n",
        "cr_cardinality = df[\"Cr Card\"].nunique()\n",
        "print(cr_cardinality)\n",
        "#Num of products\n",
        "prod_cardinality= df[\"Product\"].nunique()\n",
        "print(prod_cardinality)"
      ],
      "metadata": {
        "colab": {
          "base_uri": "https://localhost:8080/"
        },
        "id": "LsULCfdCqqzn",
        "outputId": "65c2a545-76d6-4031-b04d-c1a8356a1148"
      },
      "execution_count": null,
      "outputs": [
        {
          "output_type": "stream",
          "name": "stdout",
          "text": [
            "3\n",
            "2\n",
            "2\n",
            "4\n"
          ]
        }
      ]
    },
    {
      "cell_type": "code",
      "source": [
        " #Calculating mode and mode freq\n",
        " #Geography\n",
        " g_value_counts=df[\"Geography\"].value_counts()\n",
        " print(g_value_counts)\n",
        " #Gender\n",
        "\n",
        " ge_value_counts=df[\"Gender\"].value_counts()\n",
        " print(ge_value_counts)\n",
        "\n",
        " #CreditCard\n",
        " cr_value_counts=df[\"Cr Card\"].value_counts()\n",
        " print(cr_value_counts)\n",
        " #Producy\n",
        " prod_value_counts=df[\"Product\"].value_counts()\n",
        " print(prod_value_counts)"
      ],
      "metadata": {
        "colab": {
          "base_uri": "https://localhost:8080/"
        },
        "id": "aa4SnncKsDB9",
        "outputId": "8258da3a-512c-4ac4-f3a3-4b90f95ba852"
      },
      "execution_count": null,
      "outputs": [
        {
          "output_type": "stream",
          "name": "stdout",
          "text": [
            "Geography\n",
            "France     2474\n",
            "Spain      1265\n",
            "Germany    1261\n",
            "Name: count, dtype: int64\n",
            "Gender\n",
            "Male      2707\n",
            "Female    2293\n",
            "Name: count, dtype: int64\n",
            "Cr Card\n",
            "1    3530\n",
            "0    1470\n",
            "Name: count, dtype: int64\n",
            "Product\n",
            "1    2517\n",
            "2    2314\n",
            "3     138\n",
            "4      31\n",
            "Name: count, dtype: int64\n"
          ]
        }
      ]
    },
    {
      "cell_type": "code",
      "source": [
        "# calculating mode 1 percentage\n",
        "#Geograpgy\n",
        "print((2474/5000)*100)\n",
        "#Gender\n",
        "print((2707/5000)*100)\n",
        "#Cr Card\n",
        "print((3530/5000)*100)\n",
        "#Num of products\n",
        "print((2517/5000)*100)"
      ],
      "metadata": {
        "id": "t_cIYmeevW-s",
        "colab": {
          "base_uri": "https://localhost:8080/"
        },
        "outputId": "f3724b83-2339-43d1-d3e3-ad0cdbdba4e0"
      },
      "execution_count": null,
      "outputs": [
        {
          "output_type": "stream",
          "name": "stdout",
          "text": [
            "49.480000000000004\n",
            "54.14\n",
            "70.6\n",
            "50.339999999999996\n"
          ]
        }
      ]
    },
    {
      "cell_type": "code",
      "source": [
        "#calculating 2nd mode percentage\n",
        "\n",
        "#Geography\n",
        "print((1265/5000)*100)\n",
        "#Gender\n",
        "print((2293/5000)*100)\n",
        "#Cr Card\n",
        "print((1470/5000)*100)\n",
        "#Num of products\n",
        "print((2314/5000)*100)"
      ],
      "metadata": {
        "colab": {
          "base_uri": "https://localhost:8080/"
        },
        "id": "2RneoXUosZ1g",
        "outputId": "9448d42f-48db-460b-fe80-75544840039f"
      },
      "execution_count": null,
      "outputs": [
        {
          "output_type": "stream",
          "name": "stdout",
          "text": [
            "25.3\n",
            "45.86\n",
            "29.4\n",
            "46.28\n"
          ]
        }
      ]
    },
    {
      "cell_type": "code",
      "source": [
        "# Cleaning the data\n",
        "\n",
        "# Removing unwanted Columns\n",
        "df=df.drop(columns=[\"Surname\"])"
      ],
      "metadata": {
        "id": "Upnh7eY5ta23"
      },
      "execution_count": null,
      "outputs": []
    },
    {
      "cell_type": "code",
      "source": [
        "# Using missing\n",
        "df[\"CreditScore_Missing\"]= df[\"CreditScore\"].isnull().astype(int)\n",
        "#Using imputation\n",
        "Cs_mean= df[\"CreditScore\"].mean()\n",
        "df[\"Creditscore\"]=df[\"CreditScore\"].fillna(Cs_mean)\n",
        "# Calculate the mean of the \"Age\" column\n",
        "age_mean = df[\"Age\"].mean()\n",
        "\n",
        "# Impute missing values in the \"Age\" column with the mean\n",
        "df[\"Age\"] = df[\"Age\"].fillna(age_mean)\n",
        "\n",
        "# Calculate the mean of the \"Salary\" column\n",
        "salary_mean = df[\"Salary\"].mean()\n",
        "\n",
        "# Impute missing values in the \"Salary\" column with the mean\n",
        "df[\"Salary\"] = df[\"Salary\"].fillna(salary_mean)\n"
      ],
      "metadata": {
        "id": "49aavknzIE9g"
      },
      "execution_count": null,
      "outputs": []
    },
    {
      "cell_type": "code",
      "source": [
        "#Treating Outliers\n",
        "#Calculating min acceptable value\n",
        "#min, value- 01-1.5*IQR\n",
        "#q1-125\n",
        "#q2 - Median\n",
        "#q3- 0.75\n",
        "#max value - 03+1.5*IQR\n",
        "#IQR = Q3-Q1\n",
        "\n",
        "#Code for q1 calculation\n",
        "Cs_q1=df['CreditScore'].quantile(0.25)\n",
        "#Code for q3 Calculation\n",
        "Cs_q3=df[\"CreditScore\"].quantile(0.75)\n",
        "\n",
        "#calculation of of IQR\n",
        "Cs_IQR=Cs_q3-Cs_q1\n",
        "\n",
        "#calculation of counting min value\n",
        "Cs_min= Cs_q1-1.5*Cs_IQR\n",
        "\n",
        "[49] #code for calculation of max value\n",
        "\n",
        "Cs_max=Cs_q3+1.5*Cs_IQR\n",
        "[59] #calculated min value\n",
        "\n",
        "print(Cs_min)\n",
        "print(Cs_max)"
      ],
      "metadata": {
        "colab": {
          "base_uri": "https://localhost:8080/"
        },
        "id": "CBsT2Pk6K8zj",
        "outputId": "d59bf4c6-2b94-47fd-9339-9b1153e1ec15"
      },
      "execution_count": null,
      "outputs": [
        {
          "output_type": "stream",
          "name": "stdout",
          "text": [
            "379.625\n",
            "922.625\n"
          ]
        }
      ]
    },
    {
      "cell_type": "code",
      "source": [
        "df[\"CreditScore\"]=df[\"CreditScore\"].clip(Cs_min, Cs_max)"
      ],
      "metadata": {
        "id": "UOFEO3hdNuzI"
      },
      "execution_count": null,
      "outputs": []
    },
    {
      "cell_type": "code",
      "source": [
        "print(df[\"CreditScore\"].min())\n",
        "print(df[\"CreditScore\"].max())"
      ],
      "metadata": {
        "colab": {
          "base_uri": "https://localhost:8080/"
        },
        "id": "cXTIewQtOizF",
        "outputId": "70c9e792-95bc-4871-88e1-e3dbef182659"
      },
      "execution_count": null,
      "outputs": [
        {
          "output_type": "stream",
          "name": "stdout",
          "text": [
            "379.625\n",
            "922.625\n"
          ]
        }
      ]
    },
    {
      "cell_type": "code",
      "source": [
        "# Calculate Q1 for Age\n",
        "age_q1 = df['Age'].quantile(0.25)\n",
        "\n",
        "# Calculate Q3 for Age\n",
        "age_q3 = df['Age'].quantile(0.75)\n",
        "\n",
        "# Calculate IQR for Age\n",
        "age_iqr = age_q3 - age_q1\n",
        "\n",
        "# Calculate minimum acceptable age\n",
        "age_min = age_q1 - 1.5 * age_iqr\n",
        "\n",
        "# Calculate maximum acceptable age\n",
        "age_max = age_q3 + 1.5 * age_iqr\n",
        "\n",
        "# Clip the values of 'Age' within the calculated range\n",
        "df['Age'] = df['Age'].clip(lower=age_min, upper=age_max)\n",
        "\n",
        "# Print the results\n",
        "print(age_min)\n",
        "print(age_max)"
      ],
      "metadata": {
        "colab": {
          "base_uri": "https://localhost:8080/"
        },
        "id": "2bMhUB_GOujx",
        "outputId": "3a238309-f1a3-4e16-b950-248012d11b45"
      },
      "execution_count": null,
      "outputs": [
        {
          "output_type": "stream",
          "name": "stdout",
          "text": [
            "14.0\n",
            "62.0\n"
          ]
        }
      ]
    },
    {
      "cell_type": "code",
      "source": [
        "# Converting  non-numeric columns to numeric data types\n",
        "df_num = df.apply(pd.to_numeric, errors='coerce')\n",
        "\n",
        "# Compute the correlation matrix between all numeric variables and the target variable\n",
        "correlation_matrix = df_num.corr()['Exited'].sort_values(ascending=False)\n",
        "\n",
        "# Print the correlation of each variable with the target variable\n",
        "print(correlation_matrix)"
      ],
      "metadata": {
        "colab": {
          "base_uri": "https://localhost:8080/"
        },
        "id": "V9p-ZJdyGZO9",
        "outputId": "a2013dfd-283a-48d9-b1a2-11857336fc77"
      },
      "execution_count": null,
      "outputs": [
        {
          "output_type": "stream",
          "name": "stdout",
          "text": [
            "Exited                 1.000000\n",
            "Age                    0.276357\n",
            "Balance                0.111159\n",
            "CustomerId             0.025053\n",
            "Cr Card                0.000058\n",
            "Tenure                -0.000673\n",
            "Salary                -0.001509\n",
            "Creditscore           -0.005770\n",
            "CreditScore           -0.009126\n",
            "CreditScore_Missing   -0.010144\n",
            "RowNumber             -0.022316\n",
            "Product               -0.061236\n",
            "Active                -0.163883\n",
            "Surname                     NaN\n",
            "Geography                   NaN\n",
            "Gender                      NaN\n",
            "Name: Exited, dtype: float64\n"
          ]
        }
      ]
    },
    {
      "cell_type": "code",
      "source": [
        "# Setting the background color for visibility on a black screen\n",
        "plt.figure(facecolor='white')\n",
        "\n",
        "# Creating a bar plot for the correlation values with the target variable 'Exited'\n",
        "sns.barplot(x=correlation_matrix.index, y=correlation_matrix.values, palette='viridis')\n",
        "\n",
        "plt.title('Correlation of Variables with Exited')\n",
        "plt.xlabel('Variables')\n",
        "plt.ylabel('Correlation Coefficient')\n",
        "plt.xticks(rotation=50)\n",
        "plt.grid(True)\n",
        "\n",
        "#For saving  the graph\n",
        "plt.savefig('plt.figure.png')\n",
        "\n",
        "#To show the graph\n",
        "plt.show()"
      ],
      "metadata": {
        "colab": {
          "base_uri": "https://localhost:8080/",
          "height": 661
        },
        "id": "G6rzbdGLGvu3",
        "outputId": "7a813819-c2e6-4009-cf21-a7a1aa88c3e2"
      },
      "execution_count": null,
      "outputs": [
        {
          "output_type": "stream",
          "name": "stderr",
          "text": [
            "<ipython-input-25-a6e30cbdb7ec>:5: FutureWarning: \n",
            "\n",
            "Passing `palette` without assigning `hue` is deprecated and will be removed in v0.14.0. Assign the `x` variable to `hue` and set `legend=False` for the same effect.\n",
            "\n",
            "  sns.barplot(x=correlation_matrix.index, y=correlation_matrix.values, palette='viridis')\n"
          ]
        },
        {
          "output_type": "display_data",
          "data": {
            "text/plain": [
              "<Figure size 640x480 with 1 Axes>"
            ],
            "image/png": "[encoded data removed]"
          },
          "metadata": {}
        }
      ]
    },
    {
      "cell_type": "code",
      "source": [
        "# Creating a Bar graph of Churn rate by number of products\n",
        "product_churn = (\n",
        "    df.groupby(\"Product\")\n",
        "    .agg(churned=(\"Exited\", \"mean\"))\n",
        "    .reset_index()\n",
        "    .sort_values(by=\"churned\", ascending=False)\n",
        ")\n",
        "\n",
        "fig, ax = plt.subplots(figsize=(8, 5))\n",
        "\n",
        "sns.barplot(x=\"Product\", y=\"churned\", data=product_churn, palette=\"viridis\")\n",
        "\n",
        "ax.set_title(\"Churn Rate by Number of Products\")\n",
        "ax.set_xlabel(\"Number of Products\")\n",
        "ax.set_ylabel(\"Churn Rate\")\n",
        "\n",
        "#For saving  the graph\n",
        "plt.savefig('plt.figure.png')\n",
        "\n",
        "#To show the graph\n",
        "plt.show()\n"
      ],
      "metadata": {
        "colab": {
          "base_uri": "https://localhost:8080/",
          "height": 574
        },
        "id": "BuY7nYcJADT3",
        "outputId": "5b6cf726-2c6e-4cbc-a469-fe47bb355bca"
      },
      "execution_count": null,
      "outputs": [
        {
          "output_type": "stream",
          "name": "stderr",
          "text": [
            "<ipython-input-26-9b562baadc8c>:11: FutureWarning: \n",
            "\n",
            "Passing `palette` without assigning `hue` is deprecated and will be removed in v0.14.0. Assign the `x` variable to `hue` and set `legend=False` for the same effect.\n",
            "\n",
            "  sns.barplot(x=\"Product\", y=\"churned\", data=product_churn, palette=\"viridis\")\n"
          ]
        },
        {
          "output_type": "display_data",
          "data": {
            "text/plain": [
              "<Figure size 800x500 with 1 Axes>"
            ],
            "image/png": "[encoded data removed]"
          },
          "metadata": {}
        }
      ]
    },
    {
      "cell_type": "code",
      "source": [
        "#Creating a bar graph of average balance and age group\n",
        "\n",
        "import pandas as pd\n",
        "import matplotlib.pyplot as plt\n",
        "# Creating a new column for age groups\n",
        "df['AgeGroup'] = pd.cut(df['Age'], bins=[18, 30, 40, 50, 60, 70, 80], labels=['18-30', '31-40', '41-50', '51-60', '61-70', '71-80'])\n",
        "\n",
        "# Calculating the age\n",
        "avg_balance_by_age_group = df.groupby('AgeGroup')['Balance'].mean().reset_index()\n",
        "\n",
        "plt.figure(figsize=(10, 6))\n",
        "sns.barplot(x='AgeGroup', y='Balance', data=avg_balance_by_age_group, palette='viridis')\n",
        "\n",
        "# Adding title, labels, and grid\n",
        "plt.title('Average Balance by Age Group')\n",
        "plt.xlabel('Age Group')\n",
        "plt.ylabel('Average Balance')\n",
        "plt.grid(True)\n",
        "\n",
        "#For saving  the graph\n",
        "plt.savefig('plt.figure.png')\n",
        "\n",
        "#To show the graph\n",
        "plt.show()\n"
      ],
      "metadata": {
        "colab": {
          "base_uri": "https://localhost:8080/",
          "height": 651
        },
        "id": "NQrH3BDrBErd",
        "outputId": "fc73dc1b-f195-458c-e431-7ab1688695e7"
      },
      "execution_count": null,
      "outputs": [
        {
          "output_type": "stream",
          "name": "stderr",
          "text": [
            "<ipython-input-27-ca574ae3069e>:12: FutureWarning: \n",
            "\n",
            "Passing `palette` without assigning `hue` is deprecated and will be removed in v0.14.0. Assign the `x` variable to `hue` and set `legend=False` for the same effect.\n",
            "\n",
            "  sns.barplot(x='AgeGroup', y='Balance', data=avg_balance_by_age_group, palette='viridis')\n"
          ]
        },
        {
          "output_type": "display_data",
          "data": {
            "text/plain": [
              "<Figure size 1000x600 with 1 Axes>"
            ],
            "image/png": "[encoded data removed]"
          },
          "metadata": {}
        }
      ]
    },
    {
      "cell_type": "code",
      "source": [
        "# creating a table to see various features of customers with 2 products\n",
        "features_to_check = ['Active', 'CreditScore', 'Age', 'Balance']\n",
        "df.groupby('Product')[features_to_check].mean().style.background_gradient(cmap='BuGn')"
      ],
      "metadata": {
        "colab": {
          "base_uri": "https://localhost:8080/",
          "height": 206
        },
        "id": "6Fi3du5ZNNru",
        "outputId": "b955aa26-78e8-4789-bd52-635939338883"
      },
      "execution_count": null,
      "outputs": [
        {
          "output_type": "execute_result",
          "data": {
            "text/plain": [
              "<pandas.io.formats.style.Styler at 0x7f9c1d3a1270>"
            ],
            "text/html": [
              "<style type=\"text/css\">\n",
              "#T_7ed9a_row0_col0 {\n",
              "  background-color: #1d8640;\n",
              "  color: #f1f1f1;\n",
              "}\n",
              "#T_7ed9a_row0_col1 {\n",
              "  background-color: #75c9af;\n",
              "  color: #000000;\n",
              "}\n",
              "#T_7ed9a_row0_col2 {\n",
              "  background-color: #aadfd3;\n",
              "  color: #000000;\n",
              "}\n",
              "#T_7ed9a_row0_col3, #T_7ed9a_row1_col0, #T_7ed9a_row1_col1, #T_7ed9a_row3_col2 {\n",
              "  background-color: #00441b;\n",
              "  color: #f1f1f1;\n",
              "}\n",
              "#T_7ed9a_row1_col2, #T_7ed9a_row1_col3, #T_7ed9a_row2_col0, #T_7ed9a_row3_col1 {\n",
              "  background-color: #f7fcfd;\n",
              "  color: #000000;\n",
              "}\n",
              "#T_7ed9a_row2_col1 {\n",
              "  background-color: #ddf2f3;\n",
              "  color: #000000;\n",
              "}\n",
              "#T_7ed9a_row2_col2 {\n",
              "  background-color: #2a9350;\n",
              "  color: #f1f1f1;\n",
              "}\n",
              "#T_7ed9a_row2_col3 {\n",
              "  background-color: #64c1a2;\n",
              "  color: #000000;\n",
              "}\n",
              "#T_7ed9a_row3_col0 {\n",
              "  background-color: #016e2d;\n",
              "  color: #f1f1f1;\n",
              "}\n",
              "#T_7ed9a_row3_col3 {\n",
              "  background-color: #005b25;\n",
              "  color: #f1f1f1;\n",
              "}\n",
              "</style>\n",
              "<table id=\"T_7ed9a\" class=\"dataframe\">\n",
              "  <thead>\n",
              "    <tr>\n",
              "      <th class=\"blank level0\" >&nbsp;</th>\n",
              "      <th id=\"T_7ed9a_level0_col0\" class=\"col_heading level0 col0\" >Active</th>\n",
              "      <th id=\"T_7ed9a_level0_col1\" class=\"col_heading level0 col1\" >CreditScore</th>\n",
              "      <th id=\"T_7ed9a_level0_col2\" class=\"col_heading level0 col2\" >Age</th>\n",
              "      <th id=\"T_7ed9a_level0_col3\" class=\"col_heading level0 col3\" >Balance</th>\n",
              "    </tr>\n",
              "    <tr>\n",
              "      <th class=\"index_name level0\" >Product</th>\n",
              "      <th class=\"blank col0\" >&nbsp;</th>\n",
              "      <th class=\"blank col1\" >&nbsp;</th>\n",
              "      <th class=\"blank col2\" >&nbsp;</th>\n",
              "      <th class=\"blank col3\" >&nbsp;</th>\n",
              "    </tr>\n",
              "  </thead>\n",
              "  <tbody>\n",
              "    <tr>\n",
              "      <th id=\"T_7ed9a_level0_row0\" class=\"row_heading level0 row0\" >1</th>\n",
              "      <td id=\"T_7ed9a_row0_col0\" class=\"data row0 col0\" >0.500596</td>\n",
              "      <td id=\"T_7ed9a_row0_col1\" class=\"data row0 col1\" >649.309642</td>\n",
              "      <td id=\"T_7ed9a_row0_col2\" class=\"data row0 col2\" >39.859410</td>\n",
              "      <td id=\"T_7ed9a_row0_col3\" class=\"data row0 col3\" >97571.480973</td>\n",
              "    </tr>\n",
              "    <tr>\n",
              "      <th id=\"T_7ed9a_level0_row1\" class=\"row_heading level0 row1\" >2</th>\n",
              "      <td id=\"T_7ed9a_row1_col0\" class=\"data row1 col0\" >0.537165</td>\n",
              "      <td id=\"T_7ed9a_row1_col1\" class=\"data row1 col1\" >653.989047</td>\n",
              "      <td id=\"T_7ed9a_row1_col2\" class=\"data row1 col2\" >37.743205</td>\n",
              "      <td id=\"T_7ed9a_row1_col3\" class=\"data row1 col3\" >51914.206115</td>\n",
              "    </tr>\n",
              "    <tr>\n",
              "      <th id=\"T_7ed9a_level0_row2\" class=\"row_heading level0 row2\" >3</th>\n",
              "      <td id=\"T_7ed9a_row2_col0\" class=\"data row2 col0\" >0.376812</td>\n",
              "      <td id=\"T_7ed9a_row2_col1\" class=\"data row2 col1\" >646.717153</td>\n",
              "      <td id=\"T_7ed9a_row2_col2\" class=\"data row2 col2\" >42.326520</td>\n",
              "      <td id=\"T_7ed9a_row2_col3\" class=\"data row2 col3\" >74962.295870</td>\n",
              "    </tr>\n",
              "    <tr>\n",
              "      <th id=\"T_7ed9a_level0_row3\" class=\"row_heading level0 row3\" >4</th>\n",
              "      <td id=\"T_7ed9a_row3_col0\" class=\"data row3 col0\" >0.516129</td>\n",
              "      <td id=\"T_7ed9a_row3_col1\" class=\"data row3 col1\" >645.278226</td>\n",
              "      <td id=\"T_7ed9a_row3_col2\" class=\"data row3 col2\" >44.096774</td>\n",
              "      <td id=\"T_7ed9a_row3_col3\" class=\"data row3 col3\" >94291.710968</td>\n",
              "    </tr>\n",
              "  </tbody>\n",
              "</table>\n"
            ]
          },
          "metadata": {},
          "execution_count": 28
        }
      ]
    },
    {
      "cell_type": "code",
      "source": [
        "#Creating a bar graph Gender vs Exited\n",
        "\n",
        "import matplotlib.pyplot as plt\n",
        "import seaborn as sns\n",
        "\n",
        "# Create a bar plot of Gender vs Exited\n",
        "sns.barplot(x=\"Gender\", y=\"Exited\", data=df, palette=\"viridis\")\n",
        "\n",
        "# Add title, labels, and grid\n",
        "plt.title(\"Gender vs Exited\")\n",
        "plt.xlabel(\"Gender\")\n",
        "plt.ylabel(\"Exited\")\n",
        "plt.grid(True)\n",
        "\n",
        "#For saving  the graph\n",
        "plt.savefig('plt.figure.png')\n",
        "\n",
        "#To show the graph\n",
        "plt.show()\n"
      ],
      "metadata": {
        "colab": {
          "base_uri": "https://localhost:8080/",
          "height": 559
        },
        "id": "umAINQBbROxa",
        "outputId": "cc282c4d-96cd-4f52-dd3a-fcb39bf1330e"
      },
      "execution_count": null,
      "outputs": [
        {
          "output_type": "stream",
          "name": "stderr",
          "text": [
            "<ipython-input-32-3d7f0325af8a>:7: FutureWarning: \n",
            "\n",
            "Passing `palette` without assigning `hue` is deprecated and will be removed in v0.14.0. Assign the `x` variable to `hue` and set `legend=False` for the same effect.\n",
            "\n",
            "  sns.barplot(x=\"Gender\", y=\"Exited\", data=df, palette=\"viridis\")\n"
          ]
        },
        {
          "output_type": "display_data",
          "data": {
            "text/plain": [
              "<Figure size 640x480 with 1 Axes>"
            ],
            "image/png": "[encoded data removed]"
          },
          "metadata": {}
        }
      ]
    },
    {
      "cell_type": "code",
      "source": [
        "#Creating a bar graph Average credit score by age group\n",
        "\n",
        "\n",
        "# Create a new column for age groups\n",
        "df['AgeGroup'] = pd.cut(df['Age'], bins=[18, 30, 40, 50, 60, 70, 80], labels=['18-30', '31-40', '41-50', '51-60', '61-70', '71-80'])\n",
        "\n",
        "# Calculating the average credit score by age group\n",
        "avg_credit_score_by_age_group = df.groupby('AgeGroup')['CreditScore'].mean().reset_index()\n",
        "\n",
        "plt.figure(figsize=(10, 6))\n",
        "sns.barplot(x='AgeGroup', y='CreditScore', data=avg_credit_score_by_age_group, palette='viridis')\n",
        "\n",
        "# Adding title, labels, and grid\n",
        "plt.title('Average Credit Score by Age Group')\n",
        "plt.xlabel('Age Group')\n",
        "plt.ylabel('Average Credit Score')\n",
        "plt.grid(True)\n",
        "\n",
        "# Adding data labels above bars\n",
        "for i in range(len(avg_credit_score_by_age_group)):\n",
        "    plt.text(i, avg_credit_score_by_age_group['CreditScore'][i], round(avg_credit_score_by_age_group['CreditScore'][i], 2), ha='center', va='bottom')\n",
        "\n",
        "#For saving  the graph\n",
        "plt.savefig('plt.figure.png')\n",
        "\n",
        "#To show the graph\n",
        "plt.show()\n"
      ],
      "metadata": {
        "colab": {
          "base_uri": "https://localhost:8080/",
          "height": 720
        },
        "id": "NpSiDCOtWznW",
        "outputId": "44ed3b45-2ffc-48aa-9f35-ee391703e4a2"
      },
      "execution_count": null,
      "outputs": [
        {
          "output_type": "stream",
          "name": "stderr",
          "text": [
            "<ipython-input-54-5ec7f575b124>:14: FutureWarning: \n",
            "\n",
            "Passing `palette` without assigning `hue` is deprecated and will be removed in v0.14.0. Assign the `x` variable to `hue` and set `legend=False` for the same effect.\n",
            "\n",
            "  sns.barplot(x='AgeGroup', y='CreditScore', data=avg_credit_score_by_age_group, palette='viridis')\n",
            "WARNING:matplotlib.text:posx and posy should be finite values\n",
            "WARNING:matplotlib.text:posx and posy should be finite values\n",
            "WARNING:matplotlib.text:posx and posy should be finite values\n",
            "WARNING:matplotlib.text:posx and posy should be finite values\n"
          ]
        },
        {
          "output_type": "display_data",
          "data": {
            "text/plain": [
              "<Figure size 1000x600 with 1 Axes>"
            ],
            "image/png": "[encoded data removed]"
          },
          "metadata": {}
        }
      ]
    },
    {
      "cell_type": "code",
      "source": [
        "#Age\n",
        "ag_card=df[\"Age\"].nunique()\n",
        "print(ag_card)"
      ],
      "metadata": {
        "colab": {
          "base_uri": "https://localhost:8080/"
        },
        "id": "DS6IzWPVaJym",
        "outputId": "f0b1bbc3-debf-4412-edea-b65bc3a5df75"
      },
      "execution_count": null,
      "outputs": [
        {
          "output_type": "stream",
          "name": "stdout",
          "text": [
            "47\n"
          ]
        }
      ]
    },
    {
      "cell_type": "code",
      "source": [
        "#Creating a bar graph for Exited VS age group\n",
        "\n",
        "import matplotlib.pyplot as plt\n",
        "sns.barplot(x=df['AgeGroup'], y=df['Exited'], palette='viridis')\n",
        "\n",
        "# Adding title and labels\n",
        "plt.title('Exited vs. Age Group')\n",
        "plt.xlabel('Age Group')\n",
        "plt.ylabel('Proportion of Exited Customers')\n",
        "\n",
        "\n",
        "#To show the graph\n",
        "plt.show()"
      ],
      "metadata": {
        "colab": {
          "base_uri": "https://localhost:8080/",
          "height": 559
        },
        "id": "2tmee18p5Lz6",
        "outputId": "f1870593-4203-4774-e35a-8f819c1f2f43"
      },
      "execution_count": null,
      "outputs": [
        {
          "output_type": "stream",
          "name": "stderr",
          "text": [
            "<ipython-input-34-35564969dc95>:4: FutureWarning: \n",
            "\n",
            "Passing `palette` without assigning `hue` is deprecated and will be removed in v0.14.0. Assign the `x` variable to `hue` and set `legend=False` for the same effect.\n",
            "\n",
            "  sns.barplot(x=df['AgeGroup'], y=df['Exited'], palette='viridis')\n"
          ]
        },
        {
          "output_type": "display_data",
          "data": {
            "text/plain": [
              "<Figure size 640x480 with 1 Axes>"
            ],
            "image/png": "[encoded data removed]"
          },
          "metadata": {}
        }
      ]
    }
  ]
}